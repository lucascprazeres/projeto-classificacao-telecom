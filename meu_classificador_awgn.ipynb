{
 "cells": [
  {
   "cell_type": "code",
   "execution_count": 75,
   "metadata": {},
   "outputs": [
    {
     "name": "stdout",
     "output_type": "stream",
     "text": [
      "The autoreload extension is already loaded. To reload it, use:\n",
      "  %reload_ext autoreload\n"
     ]
    }
   ],
   "source": [
    "import numpy as np\n",
    "\n",
    "from sklearn.neighbors import KNeighborsClassifier\n",
    "from sklearn.ensemble import RandomForestClassifier\n",
    "\n",
    "from ml4comm.qam_awgn import generate_symbols\n",
    "from ml4comm.qam_analyzer import plot_decision_boundary, ser, plot_confusion_matrix\n",
    "\n",
    "from ml4comm.plot import plot_symbols, plot_learning_curve\n",
    "\n",
    "from ml4comm.symbols import setup_channel, generate_dataset\n",
    "\n",
    "%load_ext autoreload\n",
    "%autoreload 2\n",
    "%matplotlib inline"
   ]
  },
  {
   "cell_type": "code",
   "execution_count": 76,
   "metadata": {},
   "outputs": [],
   "source": [
    "channel_type = 'awgn' # 'awgn' or 'crazy'\n",
    "M            = 16      # QAM modulation\n",
    "num_symbols  = 1500    # Number of transmitted symbols\n",
    "SNR_dB       = 15      # Signal to noise ratio in dB     \n",
    "code_rate    = 1       # Rate of the used code\n",
    "Es           = 1       # Average symbol energy\n",
    "\n",
    "MAX_ERROR_RATE = 0.03 # Max error rate: 3%\n",
    "\n",
    "# Model Parameters\n",
    "RF_MAX_DEPTH      = 50\n",
    "RF_NUM_ESTIMATORS = 50\n",
    "KNN_NUM_NEIGHBORS = 11"
   ]
  },
  {
   "cell_type": "code",
   "execution_count": 123,
   "metadata": {},
   "outputs": [],
   "source": [
    "def classification_workflow(model):\n",
    "  symbs, indexes = generate_symbols(num_symbols, M) # Generate the QAM symbols\n",
    "  channel_output = setup_channel(channel_type,symbs,code_rate,Es,SNR_dB)\n",
    "  [X_train, X_test, y_train, y_test] = generate_dataset(channel_output,indexes)\n",
    "  clf = model.fit(X_train, y_train) \n",
    "  return ser(clf, X_test, y_test)\n",
    "\n",
    "def print_accuracy(ser_array: np.ndarray, threshold: float):\n",
    "  arr = np.where(ser_array <= threshold, 1, 0)\n",
    "  output = np.sum(arr)/ser_array.size\n",
    "  print(f'{output:.2%}')\n",
    "  "
   ]
  },
  {
   "cell_type": "code",
   "execution_count": 77,
   "metadata": {},
   "outputs": [],
   "source": [
    "symbs, indexes = generate_symbols(num_symbols, M) # Generate the QAM symbols\n",
    "channel_output = setup_channel(channel_type,symbs,code_rate,Es,SNR_dB)\n",
    "[X_train, X_test, y_train, y_test] = generate_dataset(channel_output,indexes)"
   ]
  },
  {
   "cell_type": "code",
   "execution_count": 78,
   "metadata": {},
   "outputs": [],
   "source": [
    "plot_symbols(X_train, y_train, symbs, QAM_modulation=M)"
   ]
  },
  {
   "cell_type": "markdown",
   "metadata": {},
   "source": [
    "## Classifiers"
   ]
  },
  {
   "cell_type": "markdown",
   "metadata": {},
   "source": [
    "### Random Forest"
   ]
  },
  {
   "cell_type": "code",
   "execution_count": 79,
   "metadata": {},
   "outputs": [],
   "source": [
    "clf_RF = RandomForestClassifier(max_depth=RF_MAX_DEPTH, n_estimators=RF_NUM_ESTIMATORS, n_jobs=-1).fit(X_train, y_train)\n",
    "plot_decision_boundary(clf_RF, X_train, y_train, legend=True)\n",
    "plot_confusion_matrix(clf_RF, X_test, y_test, M)\n",
    "plot_learning_curve(estimator=clf_RF,title=\"Learning Rate\", X=X_train, y=y_train, n_jobs=-1)"
   ]
  },
  {
   "cell_type": "code",
   "execution_count": 80,
   "metadata": {},
   "outputs": [],
   "source": [
    "clf_RF_ser = ser(clf_RF, X_test, y_test)\n",
    "print(f'Random Forest:\\n SER:\\t {clf_RF_ser:.2%}')"
   ]
  },
  {
   "cell_type": "markdown",
   "metadata": {},
   "source": [
    "### K-nearest neighbors"
   ]
  },
  {
   "cell_type": "code",
   "execution_count": 81,
   "metadata": {},
   "outputs": [],
   "source": [
    "clf_KNN = KNeighborsClassifier(n_neighbors=KNN_NUM_NEIGHBORS, n_jobs=-1).fit(X_train, y_train)\n",
    "plot_decision_boundary(clf_KNN, X_train, y_train, legend=True)\n",
    "plot_confusion_matrix(clf_KNN, X_test, y_test, M)\n",
    "plot_learning_curve(estimator=clf_RF,title=\"Learning Rate\", X=X_train, y=y_train, n_jobs=-1)"
   ]
  },
  {
   "cell_type": "code",
   "execution_count": 82,
   "metadata": {},
   "outputs": [],
   "source": [
    "clf_KNN_ser = ser(clf_KNN, X_test, y_test)\n",
    "print(f'K-nearest neighbors:\\n SER:\\t {clf_KNN_ser:.2%}')"
   ]
  },
  {
   "cell_type": "code",
   "execution_count": 128,
   "metadata": {},
   "outputs": [
    {
     "name": "stdout",
     "output_type": "stream",
     "text": [
      "84.85%\n"
     ]
    }
   ],
   "source": [
    "clf = KNeighborsClassifier(KNN_NUM_NEIGHBORS, n_jobs=-1)\n",
    "sers = [classification_workflow(clf) for x in range(33)]\n",
    "sers = np.array(sers)\n",
    "print_accuracy(sers, MAX_ERROR_RATE)"
   ]
  }
 ],
 "metadata": {
  "interpreter": {
   "hash": "51f22b70a16280a8164e595ad5b068124431a39576fb5bc445a4540fc03f85b1"
  },
  "kernelspec": {
   "display_name": "Python 3.8.10 ('aldebson')",
   "language": "python",
   "name": "python3"
  },
  "language_info": {
   "codemirror_mode": {
    "name": "ipython",
    "version": 3
   },
   "file_extension": ".py",
   "mimetype": "text/x-python",
   "name": "python",
   "nbconvert_exporter": "python",
   "pygments_lexer": "ipython3",
   "version": "3.8.10"
  },
  "orig_nbformat": 4
 },
 "nbformat": 4,
 "nbformat_minor": 2
}
