{
 "cells": [
  {
   "cell_type": "code",
   "execution_count": 365,
   "metadata": {},
   "outputs": [
    {
     "name": "stdout",
     "output_type": "stream",
     "text": [
      "The autoreload extension is already loaded. To reload it, use:\n",
      "  %reload_ext autoreload\n"
     ]
    }
   ],
   "source": [
    "import numpy as np\n",
    "\n",
    "from sklearn.neighbors import KNeighborsClassifier\n",
    "from sklearn.ensemble import RandomForestClassifier\n",
    "\n",
    "from ml4comm.qam_awgn import generate_symbols\n",
    "from ml4comm.qam_analyzer import plot_decision_boundary, ser, plot_confusion_matrix\n",
    "from ml4comm.plot import plot_symbols\n",
    "from ml4comm.symbols import setup_channel, generate_dataset\n",
    "\n",
    "%load_ext autoreload\n",
    "%autoreload 2\n",
    "%matplotlib inline"
   ]
  },
  {
   "cell_type": "code",
   "execution_count": 366,
   "metadata": {},
   "outputs": [],
   "source": [
    "channel_type = 'crazy' # 'awgn' or 'crazy'\n",
    "M            = 16      # QAM modulation\n",
    "crazy_train_size = 600\n",
    "awgn_train_size = 450\n",
    "num_symbols  = 3000 + (awgn_train_size if channel_type == 'awgn' else crazy_train_size)    # Number of transmitted symbols\n",
    "SNR_dB       = 15      # Signal to noise ratio in dB     \n",
    "code_rate    = 1       # Rate of the used code\n",
    "Es           = 1       # Average symbol energy\n",
    "\n",
    "NUM_THREADS=-1 # use all available threads\n",
    "MAX_ERROR_RATE = 0.03 if channel_type == 'awgn' else 0.02 # Max error rate: 3%\n",
    "\n",
    "# Model Parameters\n",
    "RF_MAX_DEPTH      = 50\n",
    "RF_NUM_ESTIMATORS = 50\n",
    "KNN_NUM_NEIGHBORS = 11"
   ]
  },
  {
   "cell_type": "code",
   "execution_count": 367,
   "metadata": {},
   "outputs": [],
   "source": [
    "def classification_workflow(model):\n",
    "  symbs, indexes = generate_symbols(num_symbols, M) # Generate the QAM symbols\n",
    "  channel_output = setup_channel(channel_type,symbs,code_rate,Es,SNR_dB)\n",
    "  [X_train, X_test, y_train, y_test] = generate_dataset(channel_output,indexes)\n",
    "  clf = model.fit(X_train, y_train) \n",
    "  return ser(clf, X_test, y_test)\n",
    "\n",
    "def print_accuracy(ser_array: np.ndarray, threshold: float):\n",
    "  arr = np.where(ser_array <= threshold, 1, 0)\n",
    "  output = np.sum(arr)/ser_array.size\n",
    "\n",
    "  print('-----Resumo-----')\n",
    "  for index in range(0, ser_array.size):\n",
    "    print(f'Rodada {index} | {ser_array[index]:.2%}')\n",
    "\n",
    "  print(f'\\nResultados dentro do limite de {MAX_ERROR_RATE:.2%}: {output:.2%}')\n",
    "  "
   ]
  },
  {
   "cell_type": "code",
   "execution_count": 368,
   "metadata": {},
   "outputs": [],
   "source": [
    "symbs, indexes = generate_symbols(num_symbols, M) # Generate the QAM symbols\n",
    "channel_output = setup_channel(channel_type,symbs,code_rate,Es,SNR_dB)\n",
    "[X_train, X_test, y_train, y_test] = generate_dataset(channel_output,indexes)"
   ]
  },
  {
   "cell_type": "code",
   "execution_count": 369,
   "metadata": {},
   "outputs": [],
   "source": [
    "# plot_symbols(X_train, y_train, symbs, QAM_modulation=M)"
   ]
  },
  {
   "cell_type": "markdown",
   "metadata": {},
   "source": [
    "## Classifier"
   ]
  },
  {
   "cell_type": "markdown",
   "metadata": {},
   "source": [
    "### K-nearest neighbors"
   ]
  },
  {
   "cell_type": "code",
   "execution_count": 370,
   "metadata": {},
   "outputs": [
    {
     "name": "stdout",
     "output_type": "stream",
     "text": [
      "-----Resumo-----\n",
      "Rodada 0 | 1.53%\n",
      "Rodada 1 | 1.20%\n",
      "Rodada 2 | 1.20%\n",
      "Rodada 3 | 1.43%\n",
      "Rodada 4 | 1.67%\n",
      "Rodada 5 | 1.53%\n",
      "Rodada 6 | 1.53%\n",
      "Rodada 7 | 1.50%\n",
      "Rodada 8 | 1.60%\n",
      "Rodada 9 | 1.30%\n",
      "Rodada 10 | 1.60%\n",
      "Rodada 11 | 1.27%\n",
      "Rodada 12 | 1.50%\n",
      "Rodada 13 | 1.27%\n",
      "Rodada 14 | 1.57%\n",
      "Rodada 15 | 1.70%\n",
      "Rodada 16 | 2.00%\n",
      "Rodada 17 | 1.17%\n",
      "Rodada 18 | 1.07%\n",
      "Rodada 19 | 1.57%\n",
      "Rodada 20 | 1.50%\n",
      "Rodada 21 | 1.57%\n",
      "Rodada 22 | 1.37%\n",
      "Rodada 23 | 1.17%\n",
      "Rodada 24 | 1.57%\n",
      "Rodada 25 | 1.57%\n",
      "Rodada 26 | 1.40%\n",
      "Rodada 27 | 1.30%\n",
      "Rodada 28 | 1.60%\n",
      "Rodada 29 | 1.37%\n",
      "Rodada 30 | 1.53%\n",
      "Rodada 31 | 1.50%\n",
      "Rodada 32 | 2.03%\n",
      "\n",
      "Resultados dentro do limite de 2.00%: 96.97%\n"
     ]
    }
   ],
   "source": [
    "clf_KNN = KNeighborsClassifier(KNN_NUM_NEIGHBORS, n_jobs=NUM_THREADS)\n",
    "sers = [classification_workflow(clf_KNN) for x in range(33)]\n",
    "sers = np.array(sers)\n",
    "print_accuracy(sers, MAX_ERROR_RATE)\n",
    "# plot_decision_boundary(clf_KNN, X_train, y_train, legend=True)\n",
    "# plot_confusion_matrix(clf_KNN, X_test, y_test, M)"
   ]
  }
 ],
 "metadata": {
  "interpreter": {
   "hash": "51f22b70a16280a8164e595ad5b068124431a39576fb5bc445a4540fc03f85b1"
  },
  "kernelspec": {
   "display_name": "Python 3.8.10 ('aldebson')",
   "language": "python",
   "name": "python3"
  },
  "language_info": {
   "codemirror_mode": {
    "name": "ipython",
    "version": 3
   },
   "file_extension": ".py",
   "mimetype": "text/x-python",
   "name": "python",
   "nbconvert_exporter": "python",
   "pygments_lexer": "ipython3",
   "version": "3.8.10"
  },
  "orig_nbformat": 4
 },
 "nbformat": 4,
 "nbformat_minor": 2
}
