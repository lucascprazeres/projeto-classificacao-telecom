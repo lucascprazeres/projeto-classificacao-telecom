{
 "cells": [
  {
   "cell_type": "code",
   "execution_count": null,
   "metadata": {},
   "outputs": [],
   "source": [
    "import numpy as np\n",
    "\n",
    "from sklearn.neighbors import KNeighborsClassifier\n",
    "from sklearn.model_selection import GridSearchCV\n",
    "\n",
    "from ml4comm.qam_awgn import generate_symbols\n",
    "from ml4comm.qam_analyzer import plot_decision_boundary, ser, plot_confusion_matrix\n",
    "from ml4comm.plot import plot_symbols\n",
    "from ml4comm.symbols import setup_channel, generate_dataset\n",
    "\n",
    "%load_ext autoreload\n",
    "%autoreload 2\n",
    "%matplotlib inline"
   ]
  },
  {
   "cell_type": "code",
   "execution_count": null,
   "metadata": {},
   "outputs": [],
   "source": [
    "channel_type = 'awgn' # 'awgn' or 'crazy'\n",
    "M            = 16      # QAM modulation\n",
    "crazy_train_size = 600\n",
    "awgn_train_size = 450\n",
    "num_symbols  = 3000 + (awgn_train_size if channel_type == 'awgn' else crazy_train_size)    # Number of transmitted symbols\n",
    "SNR_dB       = 15      # Signal to noise ratio in dB     \n",
    "code_rate    = 1       # Rate of the used code\n",
    "Es           = 1       # Average symbol energy\n",
    "\n",
    "NUM_THREADS=-1 # use all available threads\n",
    "MAX_ERROR_RATE = 0.03 if channel_type == 'awgn' else 0.02 # Max error rate: 3%\n",
    "\n",
    "# Model Parameters\n",
    "KNN_NUM_NEIGHBORS = 11 # Number of neighbors to use\n",
    "KNN_ALGORITHM = 'kd_tree' # Better than brute force for low dimensional data\n",
    "KNN_WEIGHT = 'distance' # Weight points by the inverse of their distance\n"
   ]
  },
  {
   "cell_type": "code",
   "execution_count": 56,
   "metadata": {},
   "outputs": [],
   "source": [
    "def classification_workflow(model):\n",
    "  symbs, indexes = generate_symbols(num_symbols, M) # Generate the QAM symbols\n",
    "  channel_output = setup_channel(channel_type,symbs,code_rate,Es,SNR_dB)\n",
    "  [X_train, X_test, y_train, y_test] = generate_dataset(channel_output,indexes)\n",
    "  clf = model.fit(X_train, y_train) \n",
    "  return ser(clf, X_test, y_test)\n",
    "\n",
    "def print_accuracy(ser_array: np.ndarray, threshold: float):\n",
    "  arr = np.where(ser_array <= threshold, 1, 0)\n",
    "  accuracy = np.sum(arr)/ser_array.size\n",
    "  mean = np.mean(ser_array)\n",
    "  std = np.std(ser_array)\n",
    "\n",
    "  print('-----Resumo-----')\n",
    "  for index in range(0, ser_array.size):\n",
    "    print(f'Rodada {index+1} | {ser_array[index]:.2%}')\n",
    "\n",
    "  print(f'\\nResultados dentro do limite de {MAX_ERROR_RATE:.2%}: {accuracy:.2%} ou {int(accuracy/0.03030303)}/{ser_array.size}.\\nErro médio: {mean:.2%}\\nDesvio Padrão: {std:.2%}')"
   ]
  },
  {
   "cell_type": "code",
   "execution_count": null,
   "metadata": {},
   "outputs": [],
   "source": [
    "symbs, indexes = generate_symbols(num_symbols, M) # Generate the QAM symbols\n",
    "channel_output = setup_channel(channel_type,symbs,code_rate,Es,SNR_dB)\n",
    "[X_train, X_test, y_train, y_test] = generate_dataset(channel_output,indexes)"
   ]
  },
  {
   "cell_type": "code",
   "execution_count": null,
   "metadata": {},
   "outputs": [],
   "source": [
    "clf_KNN = KNeighborsClassifier(n_neighbors=KNN_NUM_NEIGHBORS,algorithm=KNN_ALGORITHM,weights=KNN_WEIGHT,n_jobs=NUM_THREADS).fit(X_train, y_train)\n",
    "plot_symbols(X_train, y_train, symbs, QAM_modulation=M)\n",
    "plot_decision_boundary(clf_KNN, X_train, y_train, legend=True)\n",
    "plot_confusion_matrix(clf_KNN, X_test, y_test, M)\n"
   ]
  },
  {
   "cell_type": "markdown",
   "metadata": {},
   "source": [
    "## Classifier"
   ]
  },
  {
   "cell_type": "markdown",
   "metadata": {},
   "source": [
    "### K-nearest neighbors"
   ]
  },
  {
   "cell_type": "code",
   "execution_count": 60,
   "metadata": {},
   "outputs": [
    {
     "name": "stdout",
     "output_type": "stream",
     "text": [
      "-----Resumo-----\n",
      "Rodada 1 | 2.23%\n",
      "Rodada 2 | 2.07%\n",
      "Rodada 3 | 1.90%\n",
      "Rodada 4 | 2.77%\n",
      "Rodada 5 | 1.77%\n",
      "Rodada 6 | 2.03%\n",
      "Rodada 7 | 2.50%\n",
      "Rodada 8 | 2.17%\n",
      "Rodada 9 | 2.23%\n",
      "Rodada 10 | 2.37%\n",
      "Rodada 11 | 2.00%\n",
      "Rodada 12 | 2.30%\n",
      "Rodada 13 | 2.33%\n",
      "Rodada 14 | 2.20%\n",
      "Rodada 15 | 2.77%\n",
      "Rodada 16 | 1.67%\n",
      "Rodada 17 | 2.30%\n",
      "Rodada 18 | 2.27%\n",
      "Rodada 19 | 2.30%\n",
      "Rodada 20 | 2.13%\n",
      "Rodada 21 | 2.73%\n",
      "Rodada 22 | 2.00%\n",
      "Rodada 23 | 2.50%\n",
      "Rodada 24 | 2.03%\n",
      "Rodada 25 | 2.43%\n",
      "Rodada 26 | 1.97%\n",
      "Rodada 27 | 2.53%\n",
      "Rodada 28 | 2.03%\n",
      "Rodada 29 | 1.93%\n",
      "Rodada 30 | 2.20%\n",
      "Rodada 31 | 2.20%\n",
      "Rodada 32 | 2.10%\n",
      "Rodada 33 | 2.13%\n",
      "\n",
      "Resultados dentro do limite de 3.00%: 100.00% ou 33/33.\n",
      "Erro médio: 2.22%\n",
      "Desvio Padrão: 0.26%\n"
     ]
    }
   ],
   "source": [
    "clf_KNN = KNeighborsClassifier(n_neighbors=KNN_NUM_NEIGHBORS,algorithm=KNN_ALGORITHM,weights=KNN_WEIGHT,n_jobs=NUM_THREADS)\n",
    "sers = [classification_workflow(clf_KNN) for x in range(33)]\n",
    "sers = np.array(sers)\n",
    "print_accuracy(sers, MAX_ERROR_RATE)\n",
    "# plot_decision_boundary(clf_KNN, X_train, y_train, legend=True)\n",
    "# plot_confusion_matrix(clf_KNN, X_test, y_test, M)"
   ]
  }
 ],
 "metadata": {
  "interpreter": {
   "hash": "51f22b70a16280a8164e595ad5b068124431a39576fb5bc445a4540fc03f85b1"
  },
  "kernelspec": {
   "display_name": "Python 3.8.10 ('aldebson')",
   "language": "python",
   "name": "python3"
  },
  "language_info": {
   "codemirror_mode": {
    "name": "ipython",
    "version": 3
   },
   "file_extension": ".py",
   "mimetype": "text/x-python",
   "name": "python",
   "nbconvert_exporter": "python",
   "pygments_lexer": "ipython3",
   "version": "3.8.10"
  },
  "orig_nbformat": 4
 },
 "nbformat": 4,
 "nbformat_minor": 2
}
